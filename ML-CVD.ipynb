{
  "cells": [
    {
      "metadata": {
        "collapsed": true
      },
      "cell_type": "markdown",
      "source": "Goal: To achieve an accuracy of over 80% using demographic data (gender) and anthropometric data (grip)."
    },
    {
      "metadata": {},
      "cell_type": "markdown",
      "source": "Import part"
    },
    {
      "metadata": {
        "trusted": true
      },
      "cell_type": "code",
      "source": "# pandas is used for deal with CSV\nimport pandas as pd\nimport numpy as np\nimport seaborn as sns\nimport math\n# used in devide data to train and test\nfrom sklearn.model_selection import train_test_split\n# used to train by fit method\nfrom sklearn.ensemble import RandomForestClassifier\n# probabilities using scikit-learn's roc_auc_score method\nfrom sklearn.metrics import roc_auc_score\n# produce a confusion matrix for the model\nfrom sklearn.metrics import confusion_matrix\n# quantify the precision of the model\nfrom sklearn.metrics import precision_score\n# measure the model's recall\nfrom sklearn.metrics import recall_score\n# for drow roc curve\nfrom sklearn.metrics import roc_curve\n\n%matplotlib inline\nimport matplotlib.pyplot as plt",
      "execution_count": 11,
      "outputs": []
    },
    {
      "metadata": {},
      "cell_type": "markdown",
      "source": "Data processing for df"
    },
    {
      "metadata": {
        "trusted": true
      },
      "cell_type": "code",
      "source": "# read all csv in different df\ndf1 = pd.read_csv('Input/demographic.csv')\ndf2 = pd.read_csv('Input/examination.csv')\ndf3 = pd.read_csv('Input/labs.csv')\ndf4 = pd.read_csv('Input/questionnaire.csv')",
      "execution_count": 12,
      "outputs": []
    },
    {
      "metadata": {
        "trusted": true
      },
      "cell_type": "code",
      "source": "# there are lotd of unimportant information, just choose useful imformation\ndf1 = df1[[\"SEQN\", \"RIAGENDR\", \"RIDAGEYR\"]]\ndf2 = df2[[\"BPXSY1\", \"BPXSY2\", \"BPXSY3\", \"BPXSY4\", \n           \"BPXDI1\", \"BPXDI2\", \"BPXDI3\", \"BPXDI4\"]]\ndf3 = df3[[\"LBXTC\"]]\ndf4 = df4[[\"SMD030\", \"SMQ050Q\", \"SMD057\", \"BPD035\",  \n           \"DPQ010\", \"DPQ020\", \"DPQ030\", \"DPQ040\", \"DPQ050\", \n           \"DPQ060\", \"DPQ070\", \"DPQ080\", \"DPQ090\", \"WHD020\", \n           \"DID040\", \"MCQ160B\", \"MCQ160C\", \"MCQ160D\", \"MCQ160E\", \n           \"MCQ300C\"]]\n\n# Put all the dfs together to df\ndf = pd.concat([df1, df2], axis=1, join='inner')\ndf = pd.concat([df, df3], axis=1, join='inner')\ndf = pd.concat([df, df4], axis=1, join='inner')",
      "execution_count": 13,
      "outputs": []
    },
    {
      "metadata": {
        "trusted": true
      },
      "cell_type": "code",
      "source": "# check something lost or not\ndf.isnull().values.any()",
      "execution_count": 14,
      "outputs": [
        {
          "output_type": "execute_result",
          "execution_count": 14,
          "data": {
            "text/plain": "True"
          },
          "metadata": {}
        }
      ]
    },
    {
      "metadata": {
        "trusted": true
      },
      "cell_type": "code",
      "source": "# find where information lost\ndf.isnull().sum()",
      "execution_count": 15,
      "outputs": [
        {
          "output_type": "execute_result",
          "execution_count": 15,
          "data": {
            "text/plain": "SEQN           0\nRIAGENDR       0\nRIDAGEYR       0\nBPXSY1      2641\nBPXSY2      2404\nBPXSY3      2405\nBPXSY4      9298\nBPXDI1      2641\nBPXDI2      2404\nBPXDI3      2405\nBPXDI4      9298\nLBXTC       2189\nSMD030      7329\nSMQ050Q     8515\nSMD057      8515\nBPD035      7728\nDPQ010      4613\nDPQ020      4615\nDPQ030      4616\nDPQ040      4616\nDPQ050      4616\nDPQ060      4617\nDPQ070      4617\nDPQ080      4617\nDPQ090      4618\nWHD020      3617\nDID040      9100\nMCQ160B     4252\nMCQ160C     4252\nMCQ160D     4252\nMCQ160E     4252\nMCQ300C     4252\ndtype: int64"
          },
          "metadata": {}
        }
      ]
    },
    {
      "metadata": {
        "trusted": true
      },
      "cell_type": "code",
      "source": "# DPQ010~090: NaN meams do not have this problem\n# BPXDI1~4/BPXSY1~4: mean the different times for checking the blood pressures, \n# if donot have any data in 2~4, make it become 0, same with BPXDI1~4\n# SMD030 means the year of smoking, NAN means nevery smoke\n# SMQ050Q means time of quit smoking, NAN means nevery smoke or do not quit smoke\n# SMD057 how many cigarettes did {you/SP} usually smoke per day, NAN means nevery smoke\n# BPD035 the year of high blood pressure, NAN meanns no\n# PAD means sport NAN means do not has any sport\n# NaN means no pregnancy, which means 0 mounth\n# MCQ300 if whether your relative have this problem\n# MACQ160B~E if you have any problem or not\ndf = df.fillna({'DPQ010': 0, 'DPQ020': 0, 'DPQ030': 0, \n                'DPQ040': 0, 'DPQ050': 0, 'DPQ060': 0, \n                'DPQ070': 0, 'DPQ080': 0,'DPQ090': 0, \n                'BPXSY1': 0, 'BPXSY2': 0, 'BPXSY3': 0, \n                'BPXSY4': 0, 'BPXDI1': 0, 'BPXDI2': 0, \n                'BPXDI3': 0, 'BPXDI4': 0, 'SMD030': 0, \n                'SMQ050Q': 0,'SMD057': 0, 'BPD035': 0, \n                'DID040': 0, 'MCQ300C': 0, 'MCQ160B' : 0, \n                'MCQ160C': 0, 'MCQ160D' : 0, 'MCQ160E' : 0})\n\n# recheck\ndf.isnull().sum()",
      "execution_count": 16,
      "outputs": [
        {
          "output_type": "execute_result",
          "execution_count": 16,
          "data": {
            "text/plain": "SEQN           0\nRIAGENDR       0\nRIDAGEYR       0\nBPXSY1         0\nBPXSY2         0\nBPXSY3         0\nBPXSY4         0\nBPXDI1         0\nBPXDI2         0\nBPXDI3         0\nBPXDI4         0\nLBXTC       2189\nSMD030         0\nSMQ050Q        0\nSMD057         0\nBPD035         0\nDPQ010         0\nDPQ020         0\nDPQ030         0\nDPQ040         0\nDPQ050         0\nDPQ060         0\nDPQ070         0\nDPQ080         0\nDPQ090         0\nWHD020      3617\nDID040         0\nMCQ160B        0\nMCQ160C        0\nMCQ160D        0\nMCQ160E        0\nMCQ300C        0\ndtype: int64"
          },
          "metadata": {}
        }
      ]
    },
    {
      "metadata": {
        "trusted": true
      },
      "cell_type": "code",
      "source": "# check other NAN data\ndf[df.isnull().values.any(axis=1)].head()",
      "execution_count": 17,
      "outputs": [
        {
          "output_type": "execute_result",
          "execution_count": 17,
          "data": {
            "text/html": "<div>\n<style scoped>\n    .dataframe tbody tr th:only-of-type {\n        vertical-align: middle;\n    }\n\n    .dataframe tbody tr th {\n        vertical-align: top;\n    }\n\n    .dataframe thead th {\n        text-align: right;\n    }\n</style>\n<table border=\"1\" class=\"dataframe\">\n  <thead>\n    <tr style=\"text-align: right;\">\n      <th></th>\n      <th>SEQN</th>\n      <th>RIAGENDR</th>\n      <th>RIDAGEYR</th>\n      <th>BPXSY1</th>\n      <th>BPXSY2</th>\n      <th>BPXSY3</th>\n      <th>BPXSY4</th>\n      <th>BPXDI1</th>\n      <th>BPXDI2</th>\n      <th>BPXDI3</th>\n      <th>...</th>\n      <th>DPQ070</th>\n      <th>DPQ080</th>\n      <th>DPQ090</th>\n      <th>WHD020</th>\n      <th>DID040</th>\n      <th>MCQ160B</th>\n      <th>MCQ160C</th>\n      <th>MCQ160D</th>\n      <th>MCQ160E</th>\n      <th>MCQ300C</th>\n    </tr>\n  </thead>\n  <tbody>\n    <tr>\n      <th>3</th>\n      <td>73560</td>\n      <td>1</td>\n      <td>9</td>\n      <td>108.0</td>\n      <td>102.0</td>\n      <td>104.0</td>\n      <td>0.0</td>\n      <td>38.0</td>\n      <td>34.0</td>\n      <td>38.0</td>\n      <td>...</td>\n      <td>0.0</td>\n      <td>0.0</td>\n      <td>0.0</td>\n      <td>NaN</td>\n      <td>0.0</td>\n      <td>0.0</td>\n      <td>0.0</td>\n      <td>0.0</td>\n      <td>0.0</td>\n      <td>0.0</td>\n    </tr>\n    <tr>\n      <th>6</th>\n      <td>73563</td>\n      <td>1</td>\n      <td>0</td>\n      <td>0.0</td>\n      <td>0.0</td>\n      <td>0.0</td>\n      <td>0.0</td>\n      <td>0.0</td>\n      <td>0.0</td>\n      <td>0.0</td>\n      <td>...</td>\n      <td>0.0</td>\n      <td>0.0</td>\n      <td>0.0</td>\n      <td>NaN</td>\n      <td>0.0</td>\n      <td>0.0</td>\n      <td>0.0</td>\n      <td>0.0</td>\n      <td>0.0</td>\n      <td>0.0</td>\n    </tr>\n    <tr>\n      <th>11</th>\n      <td>73568</td>\n      <td>2</td>\n      <td>26</td>\n      <td>102.0</td>\n      <td>104.0</td>\n      <td>102.0</td>\n      <td>0.0</td>\n      <td>44.0</td>\n      <td>42.0</td>\n      <td>40.0</td>\n      <td>...</td>\n      <td>0.0</td>\n      <td>0.0</td>\n      <td>0.0</td>\n      <td>105.0</td>\n      <td>0.0</td>\n      <td>2.0</td>\n      <td>2.0</td>\n      <td>2.0</td>\n      <td>2.0</td>\n      <td>2.0</td>\n    </tr>\n    <tr>\n      <th>12</th>\n      <td>73569</td>\n      <td>2</td>\n      <td>0</td>\n      <td>124.0</td>\n      <td>0.0</td>\n      <td>128.0</td>\n      <td>128.0</td>\n      <td>68.0</td>\n      <td>0.0</td>\n      <td>68.0</td>\n      <td>...</td>\n      <td>0.0</td>\n      <td>0.0</td>\n      <td>0.0</td>\n      <td>NaN</td>\n      <td>0.0</td>\n      <td>0.0</td>\n      <td>0.0</td>\n      <td>0.0</td>\n      <td>0.0</td>\n      <td>0.0</td>\n    </tr>\n    <tr>\n      <th>13</th>\n      <td>73570</td>\n      <td>2</td>\n      <td>9</td>\n      <td>88.0</td>\n      <td>88.0</td>\n      <td>94.0</td>\n      <td>0.0</td>\n      <td>54.0</td>\n      <td>54.0</td>\n      <td>58.0</td>\n      <td>...</td>\n      <td>0.0</td>\n      <td>0.0</td>\n      <td>0.0</td>\n      <td>NaN</td>\n      <td>0.0</td>\n      <td>0.0</td>\n      <td>0.0</td>\n      <td>0.0</td>\n      <td>0.0</td>\n      <td>0.0</td>\n    </tr>\n  </tbody>\n</table>\n<p>5 rows × 32 columns</p>\n</div>",
            "text/plain": "     SEQN  RIAGENDR  RIDAGEYR  BPXSY1  BPXSY2  BPXSY3  BPXSY4  BPXDI1  BPXDI2  \\\n3   73560         1         9   108.0   102.0   104.0     0.0    38.0    34.0   \n6   73563         1         0     0.0     0.0     0.0     0.0     0.0     0.0   \n11  73568         2        26   102.0   104.0   102.0     0.0    44.0    42.0   \n12  73569         2         0   124.0     0.0   128.0   128.0    68.0     0.0   \n13  73570         2         9    88.0    88.0    94.0     0.0    54.0    54.0   \n\n    BPXDI3   ...     DPQ070  DPQ080  DPQ090  WHD020  DID040  MCQ160B  MCQ160C  \\\n3     38.0   ...        0.0     0.0     0.0     NaN     0.0      0.0      0.0   \n6      0.0   ...        0.0     0.0     0.0     NaN     0.0      0.0      0.0   \n11    40.0   ...        0.0     0.0     0.0   105.0     0.0      2.0      2.0   \n12    68.0   ...        0.0     0.0     0.0     NaN     0.0      0.0      0.0   \n13    58.0   ...        0.0     0.0     0.0     NaN     0.0      0.0      0.0   \n\n    MCQ160D  MCQ160E  MCQ300C  \n3       0.0      0.0      0.0  \n6       0.0      0.0      0.0  \n11      2.0      2.0      2.0  \n12      0.0      0.0      0.0  \n13      0.0      0.0      0.0  \n\n[5 rows x 32 columns]"
          },
          "metadata": {}
        }
      ]
    },
    {
      "metadata": {
        "trusted": true
      },
      "cell_type": "code",
      "source": "# delate NaN information\ndf = df.dropna()\n\n# rechack\ndf.isnull().values.any()",
      "execution_count": 18,
      "outputs": [
        {
          "output_type": "execute_result",
          "execution_count": 18,
          "data": {
            "text/plain": "False"
          },
          "metadata": {}
        }
      ]
    },
    {
      "metadata": {
        "trusted": true
      },
      "cell_type": "code",
      "source": "# delate unnormal information\nfor index, row in df.iterrows():\n    # unnormal information stored in SMD030 is 999\n    if row['SMD030'] >= 100:\n        df = df.drop(index)\n        continue\n    if row['SMD057'] >= 200:\n        df = df.drop(index)\n        continue\n    if row['BPD035'] >= 200:\n        df = df.drop(index)\n        continue\n    if row['WHD020'] >= 1000:\n        df = df.drop(index)\n        continue\n    if row['DID040'] >= 100:\n        df = df.drop(index)\n        continue\n    \n    if row['MCQ160B'] == 9:\n        df.loc[index,'MCQ160B'] = 0\n    if row['MCQ160C'] == 9:\n        df.loc[index,'MCQ160C'] = 0\n    if row['MCQ160D'] == 9:\n        df.loc[index,'MCQ160D'] = 0\n    if row['MCQ160E'] == 9:\n        df.loc[index,'MCQ160E'] = 0\n    if row['MCQ300C'] == 9:\n        df.loc[index,'MCQ300C'] = 0\n    \ndf.describe()",
      "execution_count": 19,
      "outputs": [
        {
          "output_type": "execute_result",
          "execution_count": 19,
          "data": {
            "text/html": "<div>\n<style scoped>\n    .dataframe tbody tr th:only-of-type {\n        vertical-align: middle;\n    }\n\n    .dataframe tbody tr th {\n        vertical-align: top;\n    }\n\n    .dataframe thead th {\n        text-align: right;\n    }\n</style>\n<table border=\"1\" class=\"dataframe\">\n  <thead>\n    <tr style=\"text-align: right;\">\n      <th></th>\n      <th>SEQN</th>\n      <th>RIAGENDR</th>\n      <th>RIDAGEYR</th>\n      <th>BPXSY1</th>\n      <th>BPXSY2</th>\n      <th>BPXSY3</th>\n      <th>BPXSY4</th>\n      <th>BPXDI1</th>\n      <th>BPXDI2</th>\n      <th>BPXDI3</th>\n      <th>...</th>\n      <th>DPQ070</th>\n      <th>DPQ080</th>\n      <th>DPQ090</th>\n      <th>WHD020</th>\n      <th>DID040</th>\n      <th>MCQ160B</th>\n      <th>MCQ160C</th>\n      <th>MCQ160D</th>\n      <th>MCQ160E</th>\n      <th>MCQ300C</th>\n    </tr>\n  </thead>\n  <tbody>\n    <tr>\n      <th>count</th>\n      <td>4721.000000</td>\n      <td>4721.000000</td>\n      <td>4721.000000</td>\n      <td>4721.000000</td>\n      <td>4721.000000</td>\n      <td>4721.000000</td>\n      <td>4721.000000</td>\n      <td>4721.000000</td>\n      <td>4721.000000</td>\n      <td>4721.000000</td>\n      <td>...</td>\n      <td>4721.000000</td>\n      <td>4721.000000</td>\n      <td>4721.000000</td>\n      <td>4721.000000</td>\n      <td>4721.000000</td>\n      <td>4721.000000</td>\n      <td>4721.000000</td>\n      <td>4721.000000</td>\n      <td>4721.000000</td>\n      <td>4721.000000</td>\n    </tr>\n    <tr>\n      <th>mean</th>\n      <td>78559.354586</td>\n      <td>1.527642</td>\n      <td>45.277060</td>\n      <td>103.650498</td>\n      <td>107.323025</td>\n      <td>107.134929</td>\n      <td>8.016522</td>\n      <td>57.790299</td>\n      <td>59.397585</td>\n      <td>59.262021</td>\n      <td>...</td>\n      <td>0.248676</td>\n      <td>0.146791</td>\n      <td>0.044906</td>\n      <td>175.342089</td>\n      <td>5.191273</td>\n      <td>1.753230</td>\n      <td>1.743063</td>\n      <td>1.760008</td>\n      <td>1.747511</td>\n      <td>1.397797</td>\n    </tr>\n    <tr>\n      <th>std</th>\n      <td>2809.244607</td>\n      <td>0.499288</td>\n      <td>19.191936</td>\n      <td>42.167471</td>\n      <td>38.458046</td>\n      <td>38.135805</td>\n      <td>31.277390</td>\n      <td>25.728325</td>\n      <td>24.021524</td>\n      <td>24.180627</td>\n      <td>...</td>\n      <td>0.669248</td>\n      <td>0.531881</td>\n      <td>0.321042</td>\n      <td>46.838332</td>\n      <td>15.819910</td>\n      <td>0.636714</td>\n      <td>0.642976</td>\n      <td>0.633642</td>\n      <td>0.638628</td>\n      <td>0.698506</td>\n    </tr>\n    <tr>\n      <th>min</th>\n      <td>73557.000000</td>\n      <td>1.000000</td>\n      <td>16.000000</td>\n      <td>0.000000</td>\n      <td>0.000000</td>\n      <td>0.000000</td>\n      <td>0.000000</td>\n      <td>0.000000</td>\n      <td>0.000000</td>\n      <td>0.000000</td>\n      <td>...</td>\n      <td>0.000000</td>\n      <td>0.000000</td>\n      <td>0.000000</td>\n      <td>75.000000</td>\n      <td>0.000000</td>\n      <td>0.000000</td>\n      <td>0.000000</td>\n      <td>0.000000</td>\n      <td>0.000000</td>\n      <td>0.000000</td>\n    </tr>\n    <tr>\n      <th>25%</th>\n      <td>76156.000000</td>\n      <td>1.000000</td>\n      <td>29.000000</td>\n      <td>102.000000</td>\n      <td>102.000000</td>\n      <td>102.000000</td>\n      <td>0.000000</td>\n      <td>52.000000</td>\n      <td>54.000000</td>\n      <td>54.000000</td>\n      <td>...</td>\n      <td>0.000000</td>\n      <td>0.000000</td>\n      <td>0.000000</td>\n      <td>142.000000</td>\n      <td>0.000000</td>\n      <td>2.000000</td>\n      <td>2.000000</td>\n      <td>2.000000</td>\n      <td>2.000000</td>\n      <td>1.000000</td>\n    </tr>\n    <tr>\n      <th>50%</th>\n      <td>78634.000000</td>\n      <td>2.000000</td>\n      <td>44.000000</td>\n      <td>112.000000</td>\n      <td>114.000000</td>\n      <td>114.000000</td>\n      <td>0.000000</td>\n      <td>64.000000</td>\n      <td>66.000000</td>\n      <td>66.000000</td>\n      <td>...</td>\n      <td>0.000000</td>\n      <td>0.000000</td>\n      <td>0.000000</td>\n      <td>170.000000</td>\n      <td>0.000000</td>\n      <td>2.000000</td>\n      <td>2.000000</td>\n      <td>2.000000</td>\n      <td>2.000000</td>\n      <td>2.000000</td>\n    </tr>\n    <tr>\n      <th>75%</th>\n      <td>80966.000000</td>\n      <td>2.000000</td>\n      <td>61.000000</td>\n      <td>126.000000</td>\n      <td>126.000000</td>\n      <td>126.000000</td>\n      <td>0.000000</td>\n      <td>74.000000</td>\n      <td>74.000000</td>\n      <td>74.000000</td>\n      <td>...</td>\n      <td>0.000000</td>\n      <td>0.000000</td>\n      <td>0.000000</td>\n      <td>200.000000</td>\n      <td>0.000000</td>\n      <td>2.000000</td>\n      <td>2.000000</td>\n      <td>2.000000</td>\n      <td>2.000000</td>\n      <td>2.000000</td>\n    </tr>\n    <tr>\n      <th>max</th>\n      <td>83368.000000</td>\n      <td>2.000000</td>\n      <td>80.000000</td>\n      <td>220.000000</td>\n      <td>212.000000</td>\n      <td>218.000000</td>\n      <td>212.000000</td>\n      <td>120.000000</td>\n      <td>112.000000</td>\n      <td>118.000000</td>\n      <td>...</td>\n      <td>9.000000</td>\n      <td>9.000000</td>\n      <td>9.000000</td>\n      <td>493.000000</td>\n      <td>80.000000</td>\n      <td>2.000000</td>\n      <td>2.000000</td>\n      <td>2.000000</td>\n      <td>2.000000</td>\n      <td>2.000000</td>\n    </tr>\n  </tbody>\n</table>\n<p>8 rows × 32 columns</p>\n</div>",
            "text/plain": "               SEQN     RIAGENDR     RIDAGEYR       BPXSY1       BPXSY2  \\\ncount   4721.000000  4721.000000  4721.000000  4721.000000  4721.000000   \nmean   78559.354586     1.527642    45.277060   103.650498   107.323025   \nstd     2809.244607     0.499288    19.191936    42.167471    38.458046   \nmin    73557.000000     1.000000    16.000000     0.000000     0.000000   \n25%    76156.000000     1.000000    29.000000   102.000000   102.000000   \n50%    78634.000000     2.000000    44.000000   112.000000   114.000000   \n75%    80966.000000     2.000000    61.000000   126.000000   126.000000   \nmax    83368.000000     2.000000    80.000000   220.000000   212.000000   \n\n            BPXSY3       BPXSY4       BPXDI1       BPXDI2       BPXDI3  \\\ncount  4721.000000  4721.000000  4721.000000  4721.000000  4721.000000   \nmean    107.134929     8.016522    57.790299    59.397585    59.262021   \nstd      38.135805    31.277390    25.728325    24.021524    24.180627   \nmin       0.000000     0.000000     0.000000     0.000000     0.000000   \n25%     102.000000     0.000000    52.000000    54.000000    54.000000   \n50%     114.000000     0.000000    64.000000    66.000000    66.000000   \n75%     126.000000     0.000000    74.000000    74.000000    74.000000   \nmax     218.000000   212.000000   120.000000   112.000000   118.000000   \n\n          ...            DPQ070       DPQ080       DPQ090       WHD020  \\\ncount     ...       4721.000000  4721.000000  4721.000000  4721.000000   \nmean      ...          0.248676     0.146791     0.044906   175.342089   \nstd       ...          0.669248     0.531881     0.321042    46.838332   \nmin       ...          0.000000     0.000000     0.000000    75.000000   \n25%       ...          0.000000     0.000000     0.000000   142.000000   \n50%       ...          0.000000     0.000000     0.000000   170.000000   \n75%       ...          0.000000     0.000000     0.000000   200.000000   \nmax       ...          9.000000     9.000000     9.000000   493.000000   \n\n            DID040      MCQ160B      MCQ160C      MCQ160D      MCQ160E  \\\ncount  4721.000000  4721.000000  4721.000000  4721.000000  4721.000000   \nmean      5.191273     1.753230     1.743063     1.760008     1.747511   \nstd      15.819910     0.636714     0.642976     0.633642     0.638628   \nmin       0.000000     0.000000     0.000000     0.000000     0.000000   \n25%       0.000000     2.000000     2.000000     2.000000     2.000000   \n50%       0.000000     2.000000     2.000000     2.000000     2.000000   \n75%       0.000000     2.000000     2.000000     2.000000     2.000000   \nmax      80.000000     2.000000     2.000000     2.000000     2.000000   \n\n           MCQ300C  \ncount  4721.000000  \nmean      1.397797  \nstd       0.698506  \nmin       0.000000  \n25%       1.000000  \n50%       2.000000  \n75%       2.000000  \nmax       2.000000  \n\n[8 rows x 32 columns]"
          },
          "metadata": {}
        }
      ]
    },
    {
      "metadata": {
        "trusted": true
      },
      "cell_type": "code",
      "source": "# Consolidate data\nfor index, row in df.iterrows():\n    # 10, \n\n    i = 0\n    if row['DPQ010'] > 0: i = 1\n    if row['DPQ020'] > 0: i+= 1\n    if row['DPQ030'] > 0: i+= 1\n    if row['DPQ040'] > 0: i+= 1\n    if row['DPQ050'] > 0: i+= 1\n    if row['DPQ060'] > 0: i+= 1\n    if row['DPQ070'] > 0: i+= 1\n    if row['DPQ080'] > 0: i+= 1\n    if row['DPQ090'] > 0: i+= 1\n    df.loc[index,'DPQ010'] = i\n    \n    # find the average Systolic Blood Pressure, Diastolic Blood Pressure\n    i = 0\n    j = 0\n    if row['BPXSY1'] > 0: \n        j = row['BPXSY1']\n        i+=1\n    if row['BPXSY2'] > 0: \n        j+= row['BPXSY2']\n        i+=1\n    if row['BPXSY3'] > 0: \n        j+= row['BPXSY3']\n        i+=1\n    if row['BPXSY4'] > 0: \n        j+= row['BPXSY4']\n        i+=1\n    if i > 0:\n        df.loc[index,'BPXSY1'] = math.floor(j / i)\n    i = 0\n    j = 0\n    if row['BPXDI1'] > 0: \n        j+= row['BPXDI1']\n        i+=1\n    if row['BPXDI2'] > 0: \n        j+= row['BPXDI2']\n        i+=1\n    if row['BPXDI3'] > 0: \n        j+= row['BPXDI3']\n        i+=1\n    if row['BPXDI4'] > 0: \n        j+= row['BPXDI4']\n        i+=1\n    if i > 0:\n        df.loc[index,'BPXDI1'] = math.floor(j / i)\n    \n    # deal with the most important part, it has MCQ(1) or not(0)\n    if row['MCQ160B'] == 2 or row['MCQ160C'] == 2 or row['MCQ160D'] == 2 or row['MCQ160E'] == 2:\n        df.loc[index,'MCQ160B'] = 1\n    else:\n        df.loc[index,'MCQ160B'] = 0\n    if row['MCQ300C'] > 0:\n        df.loc[index,'MCQ300C'] = row['MCQ300C'] - 1\n\n# there are lotd of unimportant information, just choose useful imformation\ndf = df[[\"SEQN\", \"RIAGENDR\", \"RIDAGEYR\",  \"BPXSY1\", \n         \"BPXDI1\", \"LBXTC\", \"SMD030\", \"SMQ050Q\", \"SMD057\", \"BPD035\", \n         \"MCQ300C\", \"MCQ160B\", \"DPQ010\", \"WHD020\", \"DID040\"]]\ndf.describe()",
      "execution_count": 20,
      "outputs": [
        {
          "output_type": "execute_result",
          "execution_count": 20,
          "data": {
            "text/html": "<div>\n<style scoped>\n    .dataframe tbody tr th:only-of-type {\n        vertical-align: middle;\n    }\n\n    .dataframe tbody tr th {\n        vertical-align: top;\n    }\n\n    .dataframe thead th {\n        text-align: right;\n    }\n</style>\n<table border=\"1\" class=\"dataframe\">\n  <thead>\n    <tr style=\"text-align: right;\">\n      <th></th>\n      <th>SEQN</th>\n      <th>RIAGENDR</th>\n      <th>RIDAGEYR</th>\n      <th>BPXSY1</th>\n      <th>BPXDI1</th>\n      <th>LBXTC</th>\n      <th>SMD030</th>\n      <th>SMQ050Q</th>\n      <th>SMD057</th>\n      <th>BPD035</th>\n      <th>MCQ300C</th>\n      <th>MCQ160B</th>\n      <th>DPQ010</th>\n      <th>WHD020</th>\n      <th>DID040</th>\n    </tr>\n  </thead>\n  <tbody>\n    <tr>\n      <th>count</th>\n      <td>4721.000000</td>\n      <td>4721.000000</td>\n      <td>4721.000000</td>\n      <td>4721.000000</td>\n      <td>4721.000000</td>\n      <td>4721.000000</td>\n      <td>4721.000000</td>\n      <td>4721.000000</td>\n      <td>4721.000000</td>\n      <td>4721.000000</td>\n      <td>4721.000000</td>\n      <td>4721.000000</td>\n      <td>4721.000000</td>\n      <td>4721.000000</td>\n      <td>4721.000000</td>\n    </tr>\n    <tr>\n      <th>mean</th>\n      <td>78559.354586</td>\n      <td>1.527642</td>\n      <td>45.277060</td>\n      <td>108.828003</td>\n      <td>60.621902</td>\n      <td>179.683542</td>\n      <td>6.727600</td>\n      <td>610.587376</td>\n      <td>2.933700</td>\n      <td>15.112264</td>\n      <td>0.521923</td>\n      <td>0.887947</td>\n      <td>1.795806</td>\n      <td>175.342089</td>\n      <td>5.191273</td>\n    </tr>\n    <tr>\n      <th>std</th>\n      <td>2809.244607</td>\n      <td>0.499288</td>\n      <td>19.191936</td>\n      <td>35.983207</td>\n      <td>22.015086</td>\n      <td>41.239337</td>\n      <td>9.245655</td>\n      <td>6659.822063</td>\n      <td>8.692538</td>\n      <td>23.364659</td>\n      <td>0.499572</td>\n      <td>0.315464</td>\n      <td>2.237165</td>\n      <td>46.838332</td>\n      <td>15.819910</td>\n    </tr>\n    <tr>\n      <th>min</th>\n      <td>73557.000000</td>\n      <td>1.000000</td>\n      <td>16.000000</td>\n      <td>0.000000</td>\n      <td>0.000000</td>\n      <td>69.000000</td>\n      <td>0.000000</td>\n      <td>0.000000</td>\n      <td>0.000000</td>\n      <td>0.000000</td>\n      <td>0.000000</td>\n      <td>0.000000</td>\n      <td>0.000000</td>\n      <td>75.000000</td>\n      <td>0.000000</td>\n    </tr>\n    <tr>\n      <th>25%</th>\n      <td>76156.000000</td>\n      <td>1.000000</td>\n      <td>29.000000</td>\n      <td>103.000000</td>\n      <td>55.000000</td>\n      <td>151.000000</td>\n      <td>0.000000</td>\n      <td>0.000000</td>\n      <td>0.000000</td>\n      <td>0.000000</td>\n      <td>0.000000</td>\n      <td>1.000000</td>\n      <td>0.000000</td>\n      <td>142.000000</td>\n      <td>0.000000</td>\n    </tr>\n    <tr>\n      <th>50%</th>\n      <td>78634.000000</td>\n      <td>2.000000</td>\n      <td>44.000000</td>\n      <td>114.000000</td>\n      <td>66.000000</td>\n      <td>176.000000</td>\n      <td>0.000000</td>\n      <td>0.000000</td>\n      <td>0.000000</td>\n      <td>0.000000</td>\n      <td>1.000000</td>\n      <td>1.000000</td>\n      <td>1.000000</td>\n      <td>170.000000</td>\n      <td>0.000000</td>\n    </tr>\n    <tr>\n      <th>75%</th>\n      <td>80966.000000</td>\n      <td>2.000000</td>\n      <td>61.000000</td>\n      <td>126.000000</td>\n      <td>74.000000</td>\n      <td>204.000000</td>\n      <td>16.000000</td>\n      <td>0.000000</td>\n      <td>0.000000</td>\n      <td>34.000000</td>\n      <td>1.000000</td>\n      <td>1.000000</td>\n      <td>3.000000</td>\n      <td>200.000000</td>\n      <td>0.000000</td>\n    </tr>\n    <tr>\n      <th>max</th>\n      <td>83368.000000</td>\n      <td>2.000000</td>\n      <td>80.000000</td>\n      <td>216.000000</td>\n      <td>128.000000</td>\n      <td>813.000000</td>\n      <td>64.000000</td>\n      <td>99999.000000</td>\n      <td>95.000000</td>\n      <td>80.000000</td>\n      <td>1.000000</td>\n      <td>1.000000</td>\n      <td>9.000000</td>\n      <td>493.000000</td>\n      <td>80.000000</td>\n    </tr>\n  </tbody>\n</table>\n</div>",
            "text/plain": "               SEQN     RIAGENDR     RIDAGEYR       BPXSY1       BPXDI1  \\\ncount   4721.000000  4721.000000  4721.000000  4721.000000  4721.000000   \nmean   78559.354586     1.527642    45.277060   108.828003    60.621902   \nstd     2809.244607     0.499288    19.191936    35.983207    22.015086   \nmin    73557.000000     1.000000    16.000000     0.000000     0.000000   \n25%    76156.000000     1.000000    29.000000   103.000000    55.000000   \n50%    78634.000000     2.000000    44.000000   114.000000    66.000000   \n75%    80966.000000     2.000000    61.000000   126.000000    74.000000   \nmax    83368.000000     2.000000    80.000000   216.000000   128.000000   \n\n             LBXTC       SMD030       SMQ050Q       SMD057       BPD035  \\\ncount  4721.000000  4721.000000   4721.000000  4721.000000  4721.000000   \nmean    179.683542     6.727600    610.587376     2.933700    15.112264   \nstd      41.239337     9.245655   6659.822063     8.692538    23.364659   \nmin      69.000000     0.000000      0.000000     0.000000     0.000000   \n25%     151.000000     0.000000      0.000000     0.000000     0.000000   \n50%     176.000000     0.000000      0.000000     0.000000     0.000000   \n75%     204.000000    16.000000      0.000000     0.000000    34.000000   \nmax     813.000000    64.000000  99999.000000    95.000000    80.000000   \n\n           MCQ300C      MCQ160B       DPQ010       WHD020       DID040  \ncount  4721.000000  4721.000000  4721.000000  4721.000000  4721.000000  \nmean      0.521923     0.887947     1.795806   175.342089     5.191273  \nstd       0.499572     0.315464     2.237165    46.838332    15.819910  \nmin       0.000000     0.000000     0.000000    75.000000     0.000000  \n25%       0.000000     1.000000     0.000000   142.000000     0.000000  \n50%       1.000000     1.000000     1.000000   170.000000     0.000000  \n75%       1.000000     1.000000     3.000000   200.000000     0.000000  \nmax       1.000000     1.000000     9.000000   493.000000    80.000000  "
          },
          "metadata": {}
        }
      ]
    },
    {
      "metadata": {
        "trusted": true
      },
      "cell_type": "code",
      "source": "df.shape",
      "execution_count": 21,
      "outputs": [
        {
          "output_type": "execute_result",
          "execution_count": 21,
          "data": {
            "text/plain": "(4721, 15)"
          },
          "metadata": {}
        }
      ]
    },
    {
      "metadata": {
        "trusted": true
      },
      "cell_type": "code",
      "source": "# deal with smorking and high blood pressure and hypertension\n# reorder the index\ni = 1\nfor index, row in df.iterrows():\n    # RIDAGEYR is age, SMD030 is start year for smoking, SMD050Q is the time for quiting smoking to now\n    # RIDAGEYR - SMD030 means the year for smoking to now\n    j = row['RIDAGEYR'] - row['SMD030']\n    \n    # than - quiting time to get the real somking year(delate unnormal infomation)\n    if row['SMQ050Q'] <= j:\n        j = j - row['SMQ050Q']\n    \n    # if never smok, smokeage = 0\n    if row['SMD030'] == 0:\n        j = 0\n    df.loc[index,'SMD030'] = j\n    \n    # RIDAGEYR is age, DID040 is start year for diabetes\n    # RIDAGEYR - DID040 means the year for diabetes to now\n    j = 0\n    if row['DID040'] > 0:\n        j = row['RIDAGEYR'] - row['DID040']\n    df.loc[index,'DID040'] = j\n    \n    # RIDAGEYR is age, BPD035 is start year for hypertension\n    # RIDAGEYR - BPD035 means the year for hypertension to now\n    j = 0\n    if row['BPD035'] > 0:\n        j = row['RIDAGEYR'] - row['BPD035']\n    df.loc[index,'BPD035'] = j\n    \n    index = i\n    i+=1\n\n# redelate useless information, just choose useful imformation\ndf = df.drop('SMQ050Q', axis=1)\n\n# rename this information to better understanding and read\ndf = df.rename(columns = {'SEQN' : 'ID',\n                          'RIAGENDR' : 'Gender',\n                          'RIDAGEYR' : 'Age',\n                          'RIDEXPRG' : 'Pregnancy',\n                          'BPXSY1' : 'SystolicBloodPressure',\n                          'BPXDI1' : 'DiastolicBloodPressure',\n                          'LBXTC' : 'Cholesterol',\n                          'SMD030' : 'SmokeAge',\n                          'SMD057' : 'SmokingFrequency',\n                          'BPD035' : 'HypertensiveAge',\n                          'MCQ300C' : 'Heredity',\n                          'MCQ160B' : 'CVD',\n                          'DID040' : 'DiabeticAge',\n                          'DPQ010' : 'Depression',\n                          'WHD020' : 'Weight'})\n\n# chek the infomation right or not\ndf.describe()",
      "execution_count": 22,
      "outputs": [
        {
          "output_type": "execute_result",
          "execution_count": 22,
          "data": {
            "text/html": "<div>\n<style scoped>\n    .dataframe tbody tr th:only-of-type {\n        vertical-align: middle;\n    }\n\n    .dataframe tbody tr th {\n        vertical-align: top;\n    }\n\n    .dataframe thead th {\n        text-align: right;\n    }\n</style>\n<table border=\"1\" class=\"dataframe\">\n  <thead>\n    <tr style=\"text-align: right;\">\n      <th></th>\n      <th>ID</th>\n      <th>Gender</th>\n      <th>Age</th>\n      <th>SystolicBloodPressure</th>\n      <th>DiastolicBloodPressure</th>\n      <th>Cholesterol</th>\n      <th>SmokeAge</th>\n      <th>SmokingFrequency</th>\n      <th>HypertensiveAge</th>\n      <th>Heredity</th>\n      <th>CVD</th>\n      <th>Depression</th>\n      <th>Weight</th>\n      <th>DiabeticAge</th>\n    </tr>\n  </thead>\n  <tbody>\n    <tr>\n      <th>count</th>\n      <td>4721.000000</td>\n      <td>4721.000000</td>\n      <td>4721.000000</td>\n      <td>4721.000000</td>\n      <td>4721.000000</td>\n      <td>4721.000000</td>\n      <td>4721.000000</td>\n      <td>4721.000000</td>\n      <td>4721.000000</td>\n      <td>4721.000000</td>\n      <td>4721.000000</td>\n      <td>4721.000000</td>\n      <td>4721.000000</td>\n      <td>4721.000000</td>\n    </tr>\n    <tr>\n      <th>mean</th>\n      <td>78559.354586</td>\n      <td>1.527642</td>\n      <td>45.277060</td>\n      <td>108.828003</td>\n      <td>60.621902</td>\n      <td>179.683542</td>\n      <td>9.074349</td>\n      <td>2.933700</td>\n      <td>3.944080</td>\n      <td>0.521923</td>\n      <td>0.887947</td>\n      <td>1.795806</td>\n      <td>175.342089</td>\n      <td>1.208642</td>\n    </tr>\n    <tr>\n      <th>std</th>\n      <td>2809.244607</td>\n      <td>0.499288</td>\n      <td>19.191936</td>\n      <td>35.983207</td>\n      <td>22.015086</td>\n      <td>41.239337</td>\n      <td>15.223344</td>\n      <td>8.692538</td>\n      <td>8.603424</td>\n      <td>0.499572</td>\n      <td>0.315464</td>\n      <td>2.237165</td>\n      <td>46.838332</td>\n      <td>4.680683</td>\n    </tr>\n    <tr>\n      <th>min</th>\n      <td>73557.000000</td>\n      <td>1.000000</td>\n      <td>16.000000</td>\n      <td>0.000000</td>\n      <td>0.000000</td>\n      <td>69.000000</td>\n      <td>0.000000</td>\n      <td>0.000000</td>\n      <td>0.000000</td>\n      <td>0.000000</td>\n      <td>0.000000</td>\n      <td>0.000000</td>\n      <td>75.000000</td>\n      <td>0.000000</td>\n    </tr>\n    <tr>\n      <th>25%</th>\n      <td>76156.000000</td>\n      <td>1.000000</td>\n      <td>29.000000</td>\n      <td>103.000000</td>\n      <td>55.000000</td>\n      <td>151.000000</td>\n      <td>0.000000</td>\n      <td>0.000000</td>\n      <td>0.000000</td>\n      <td>0.000000</td>\n      <td>1.000000</td>\n      <td>0.000000</td>\n      <td>142.000000</td>\n      <td>0.000000</td>\n    </tr>\n    <tr>\n      <th>50%</th>\n      <td>78634.000000</td>\n      <td>2.000000</td>\n      <td>44.000000</td>\n      <td>114.000000</td>\n      <td>66.000000</td>\n      <td>176.000000</td>\n      <td>0.000000</td>\n      <td>0.000000</td>\n      <td>0.000000</td>\n      <td>1.000000</td>\n      <td>1.000000</td>\n      <td>1.000000</td>\n      <td>170.000000</td>\n      <td>0.000000</td>\n    </tr>\n    <tr>\n      <th>75%</th>\n      <td>80966.000000</td>\n      <td>2.000000</td>\n      <td>61.000000</td>\n      <td>126.000000</td>\n      <td>74.000000</td>\n      <td>204.000000</td>\n      <td>15.000000</td>\n      <td>0.000000</td>\n      <td>3.000000</td>\n      <td>1.000000</td>\n      <td>1.000000</td>\n      <td>3.000000</td>\n      <td>200.000000</td>\n      <td>0.000000</td>\n    </tr>\n    <tr>\n      <th>max</th>\n      <td>83368.000000</td>\n      <td>2.000000</td>\n      <td>80.000000</td>\n      <td>216.000000</td>\n      <td>128.000000</td>\n      <td>813.000000</td>\n      <td>71.000000</td>\n      <td>95.000000</td>\n      <td>63.000000</td>\n      <td>1.000000</td>\n      <td>1.000000</td>\n      <td>9.000000</td>\n      <td>493.000000</td>\n      <td>50.000000</td>\n    </tr>\n  </tbody>\n</table>\n</div>",
            "text/plain": "                 ID       Gender          Age  SystolicBloodPressure  \\\ncount   4721.000000  4721.000000  4721.000000            4721.000000   \nmean   78559.354586     1.527642    45.277060             108.828003   \nstd     2809.244607     0.499288    19.191936              35.983207   \nmin    73557.000000     1.000000    16.000000               0.000000   \n25%    76156.000000     1.000000    29.000000             103.000000   \n50%    78634.000000     2.000000    44.000000             114.000000   \n75%    80966.000000     2.000000    61.000000             126.000000   \nmax    83368.000000     2.000000    80.000000             216.000000   \n\n       DiastolicBloodPressure  Cholesterol     SmokeAge  SmokingFrequency  \\\ncount             4721.000000  4721.000000  4721.000000       4721.000000   \nmean                60.621902   179.683542     9.074349          2.933700   \nstd                 22.015086    41.239337    15.223344          8.692538   \nmin                  0.000000    69.000000     0.000000          0.000000   \n25%                 55.000000   151.000000     0.000000          0.000000   \n50%                 66.000000   176.000000     0.000000          0.000000   \n75%                 74.000000   204.000000    15.000000          0.000000   \nmax                128.000000   813.000000    71.000000         95.000000   \n\n       HypertensiveAge     Heredity          CVD   Depression       Weight  \\\ncount      4721.000000  4721.000000  4721.000000  4721.000000  4721.000000   \nmean          3.944080     0.521923     0.887947     1.795806   175.342089   \nstd           8.603424     0.499572     0.315464     2.237165    46.838332   \nmin           0.000000     0.000000     0.000000     0.000000    75.000000   \n25%           0.000000     0.000000     1.000000     0.000000   142.000000   \n50%           0.000000     1.000000     1.000000     1.000000   170.000000   \n75%           3.000000     1.000000     1.000000     3.000000   200.000000   \nmax          63.000000     1.000000     1.000000     9.000000   493.000000   \n\n       DiabeticAge  \ncount  4721.000000  \nmean      1.208642  \nstd       4.680683  \nmin       0.000000  \n25%       0.000000  \n50%       0.000000  \n75%       0.000000  \nmax      50.000000  "
          },
          "metadata": {}
        }
      ]
    },
    {
      "metadata": {},
      "cell_type": "markdown",
      "source": "Start to ML"
    },
    {
      "metadata": {
        "trusted": true
      },
      "cell_type": "code",
      "source": "# data -> attributes, target -> CVD\ndata = df.loc[:,df.columns!='CVD'].values[:,1:]\ntarget = df.loc[:,'CVD'].values\n\n# show has CVD or not\nprint(target[target==1].shape, target[target==0].shape)",
      "execution_count": 23,
      "outputs": [
        {
          "output_type": "stream",
          "text": "(4192,) (529,)\n",
          "name": "stdout"
        }
      ]
    },
    {
      "metadata": {
        "trusted": true
      },
      "cell_type": "code",
      "source": "# x = scaler.fit_transform(data)\nx = data\ny = target",
      "execution_count": 24,
      "outputs": []
    },
    {
      "metadata": {
        "trusted": true
      },
      "cell_type": "code",
      "source": "# 80% for training, 20% for testing\nx_train,x_test,y_train,y_test = train_test_split(x, y, test_size = 0.2, random_state = 42)",
      "execution_count": 25,
      "outputs": []
    },
    {
      "metadata": {
        "trusted": true
      },
      "cell_type": "code",
      "source": "# check the number of train and test\nprint(x_train.shape, x_test.shape)",
      "execution_count": 26,
      "outputs": [
        {
          "output_type": "stream",
          "text": "(3776, 12) (945, 12)\n",
          "name": "stdout"
        }
      ]
    },
    {
      "metadata": {
        "trusted": true
      },
      "cell_type": "code",
      "source": "# train it by calling the fit method.\nmodel = RandomForestClassifier(random_state=13)\nmodel.fit(x_train, y_train)",
      "execution_count": 27,
      "outputs": [
        {
          "output_type": "stream",
          "text": "/home/nbuser/anaconda3_501/lib/python3.6/site-packages/sklearn/ensemble/forest.py:246: FutureWarning: The default value of n_estimators will change from 10 in version 0.20 to 100 in 0.22.\n  \"10 in version 0.20 to 100 in 0.22.\", FutureWarning)\n",
          "name": "stderr"
        },
        {
          "output_type": "execute_result",
          "execution_count": 27,
          "data": {
            "text/plain": "RandomForestClassifier(bootstrap=True, class_weight=None, criterion='gini',\n            max_depth=None, max_features='auto', max_leaf_nodes=None,\n            min_impurity_decrease=0.0, min_impurity_split=None,\n            min_samples_leaf=1, min_samples_split=2,\n            min_weight_fraction_leaf=0.0, n_estimators=10, n_jobs=None,\n            oob_score=False, random_state=13, verbose=0, warm_start=False)"
          },
          "metadata": {}
        }
      ]
    },
    {
      "metadata": {
        "trusted": true
      },
      "cell_type": "code",
      "source": "# predicted the result\npredicted = model.predict(x_test)\nmodel.score(x_test, y_test)",
      "execution_count": 28,
      "outputs": [
        {
          "output_type": "execute_result",
          "execution_count": 28,
          "data": {
            "text/plain": "0.9968253968253968"
          },
          "metadata": {}
        }
      ]
    },
    {
      "metadata": {
        "trusted": true
      },
      "cell_type": "code",
      "source": "# it already get nearly 100% right, generate an ROC AUC score from the probabilities using scikit-learn's roc_auc_score method\nprobabilities = model.predict_proba(x_test)\nroc_auc_score(y_test, probabilities[:, 1])",
      "execution_count": 29,
      "outputs": [
        {
          "output_type": "execute_result",
          "execution_count": 29,
          "data": {
            "text/plain": "0.9941017742436182"
          },
          "metadata": {}
        }
      ]
    },
    {
      "metadata": {
        "trusted": true
      },
      "cell_type": "code",
      "source": "# produce a confusion matrix for the model\nconfusion_matrix(y_test, predicted)",
      "execution_count": 30,
      "outputs": [
        {
          "output_type": "execute_result",
          "execution_count": 30,
          "data": {
            "text/plain": "array([[ 96,   3],\n       [  0, 846]])"
          },
          "metadata": {}
        }
      ]
    },
    {
      "metadata": {
        "trusted": true
      },
      "cell_type": "code",
      "source": "# quantify the precision of the model\ntrain_predictions = model.predict(x_train)\nprecision_score(y_train, train_predictions)",
      "execution_count": 31,
      "outputs": [
        {
          "output_type": "execute_result",
          "execution_count": 31,
          "data": {
            "text/plain": "0.9997012249775918"
          },
          "metadata": {}
        }
      ]
    },
    {
      "metadata": {
        "trusted": true
      },
      "cell_type": "code",
      "source": "# measure the model's recall\nrecall_score(y_train, train_predictions)",
      "execution_count": 32,
      "outputs": [
        {
          "output_type": "execute_result",
          "execution_count": 32,
          "data": {
            "text/plain": "1.0"
          },
          "metadata": {}
        }
      ]
    },
    {
      "metadata": {
        "trusted": true
      },
      "cell_type": "code",
      "source": "# configures Seaborn to enhance the output from Matplotlib.\nsns.set()",
      "execution_count": 33,
      "outputs": []
    },
    {
      "metadata": {
        "trusted": true
      },
      "cell_type": "code",
      "source": "fpr, tpr, _ = roc_curve(y_test, probabilities[:, 1])\nplt.plot(fpr, tpr)\nplt.plot([0, 1], [0, 1], color='grey', lw=1, linestyle='--')\nplt.xlabel('False Positive Rate')\nplt.ylabel('True Positive Rate')",
      "execution_count": 34,
      "outputs": [
        {
          "output_type": "execute_result",
          "execution_count": 34,
          "data": {
            "text/plain": "Text(0, 0.5, 'True Positive Rate')"
          },
          "metadata": {}
        },
        {
          "output_type": "display_data",
          "data": {
            "image/png": "[encoded data removed]",
            "text/plain": "<Figure size 432x288 with 1 Axes>"
          },
          "metadata": {}
        }
      ]
    },
    {
      "metadata": {
        "trusted": true
      },
      "cell_type": "markdown",
      "source": "end of program\ntoo many factors can make the result better"
    }
  ],
  "metadata": {
    "kernelspec": {
      "name": "python36",
      "display_name": "Python 3.6",
      "language": "python"
    },
    "language_info": {
      "mimetype": "text/x-python",
      "nbconvert_exporter": "python",
      "name": "python",
      "pygments_lexer": "ipython3",
      "version": "3.6.6",
      "file_extension": ".py",
      "codemirror_mode": {
        "version": 3,
        "name": "ipython"
      }
    }
  },
  "nbformat": 4,
  "nbformat_minor": 2
}